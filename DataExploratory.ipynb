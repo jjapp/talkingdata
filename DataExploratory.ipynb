{
 "cells": [
  {
   "cell_type": "code",
   "execution_count": 1,
   "metadata": {},
   "outputs": [],
   "source": [
    "import pandas as pd\n",
    "import numpy as np\n",
    "from sklearn.naive_bayes import BernoulliNB\n",
    "from imblearn.over_sampling import SMOTE\n"
   ]
  },
  {
   "cell_type": "code",
   "execution_count": 2,
   "metadata": {
    "collapsed": true
   },
   "outputs": [],
   "source": [
    "df=pd.read_csv('train_sample.csv')"
   ]
  },
  {
   "cell_type": "code",
   "execution_count": 3,
   "metadata": {},
   "outputs": [
    {
     "name": "stdout",
     "output_type": "stream",
     "text": [
      "           ip  app  device  os  channel           click_time attributed_time  \\\n",
      "0       87540   12       1  13      497  2017-11-07 09:30:38             NaN   \n",
      "1      105560   25       1  17      259  2017-11-07 13:40:27             NaN   \n",
      "2      101424   12       1  19      212  2017-11-07 18:05:24             NaN   \n",
      "3       94584   13       1  13      477  2017-11-07 04:58:08             NaN   \n",
      "4       68413   12       1   1      178  2017-11-09 09:00:09             NaN   \n",
      "5       93663    3       1  17      115  2017-11-09 01:22:13             NaN   \n",
      "6       17059    1       1  17      135  2017-11-09 01:17:58             NaN   \n",
      "7      121505    9       1  25      442  2017-11-07 10:01:53             NaN   \n",
      "8      192967    2       2  22      364  2017-11-08 09:35:17             NaN   \n",
      "9      143636    3       1  19      135  2017-11-08 12:35:26             NaN   \n",
      "10      73839    3       1  22      489  2017-11-08 08:14:37             NaN   \n",
      "11      34812    3       1  13      489  2017-11-07 05:03:14             NaN   \n",
      "12     114809    3       1  22      205  2017-11-09 10:24:23             NaN   \n",
      "13     114220    6       1  20      125  2017-11-08 14:46:16             NaN   \n",
      "14      36150    2       1  13      205  2017-11-07 00:54:09             NaN   \n",
      "15      72116   25       2  19      259  2017-11-08 23:17:45             NaN   \n",
      "16       5314    2       1   2      477  2017-11-09 07:33:41             NaN   \n",
      "17     106598    3       1  20      280  2017-11-09 03:44:35             NaN   \n",
      "18      72065   20       2  90      259  2017-11-06 23:14:08             NaN   \n",
      "19      37301   14       1  13      349  2017-11-06 20:07:00             NaN   \n",
      "20      28735   12       1  19      265  2017-11-09 09:55:22             NaN   \n",
      "21      66918   64       1  25      459  2017-11-08 17:01:58             NaN   \n",
      "22      25761    9       1  10      215  2017-11-08 02:05:37             NaN   \n",
      "23       8362    7       1  19      101  2017-11-07 10:30:00             NaN   \n",
      "24      45257    3       1  18      280  2017-11-07 01:35:31             NaN   \n",
      "25     145896   64       1  13      459  2017-11-07 03:58:58             NaN   \n",
      "26     162976    3       1  13      115  2017-11-07 16:19:05             NaN   \n",
      "27      52432    1       1  13      115  2017-11-07 17:22:52             NaN   \n",
      "28     135690   12       1  40      122  2017-11-07 06:39:04             NaN   \n",
      "29     139137   12       1  13      497  2017-11-07 10:11:50             NaN   \n",
      "...       ...  ...     ...  ..      ...                  ...             ...   \n",
      "99970   57451    3       1   6      130  2017-11-09 13:35:55             NaN   \n",
      "99971   22529    3       1  22      173  2017-11-08 00:30:44             NaN   \n",
      "99972  118977   15       1  25      245  2017-11-07 05:02:52             NaN   \n",
      "99973  153487    2       1  42      477  2017-11-09 00:59:38             NaN   \n",
      "99974   13487   14       1  19      379  2017-11-08 08:08:40             NaN   \n",
      "99975   34029   14       1  13      467  2017-11-09 15:32:57             NaN   \n",
      "99976    6908   14       1  18      123  2017-11-07 22:59:12             NaN   \n",
      "99977    5788   18       1  58      439  2017-11-09 14:22:21             NaN   \n",
      "99978  190943    7       1  13      101  2017-11-09 11:47:49             NaN   \n",
      "99979   19162    9       1  37      489  2017-11-09 11:19:28             NaN   \n",
      "99980  111025   14       1  41      349  2017-11-08 12:58:11             NaN   \n",
      "99981   15651   10       1   1      377  2017-11-09 06:50:25             NaN   \n",
      "99982    5314   12       1  41      259  2017-11-09 02:09:20             NaN   \n",
      "99983   51379    3       1  41      135  2017-11-07 01:48:00             NaN   \n",
      "99984  185961   27       1  13      122  2017-11-07 05:02:01             NaN   \n",
      "99985   61500    3       1  10      280  2017-11-09 01:50:53             NaN   \n",
      "99986  119614    2       1  19      219  2017-11-07 11:27:54             NaN   \n",
      "99987   41851   11       1  28      319  2017-11-08 13:19:42             NaN   \n",
      "99988   69449    6       1  13      125  2017-11-09 13:53:30             NaN   \n",
      "99989   92730    3       1  19      379  2017-11-07 11:02:08             NaN   \n",
      "99990   84388    9       1  22      107  2017-11-09 04:21:28             NaN   \n",
      "99991   43374    1       1  18      134  2017-11-09 12:42:34             NaN   \n",
      "99992  125061   12       1  13      328  2017-11-07 09:33:14             NaN   \n",
      "99993  146258    3       1  13      280  2017-11-09 03:03:17             NaN   \n",
      "99994  147153   13       1  13      477  2017-11-07 07:34:13             NaN   \n",
      "99995  124883   11       1  19      122  2017-11-09 13:25:41             NaN   \n",
      "99996   85150    9       1  13      244  2017-11-07 11:25:43             NaN   \n",
      "99997   18839    3       1  13       19  2017-11-08 11:38:42             NaN   \n",
      "99998  114276   15       1  12      245  2017-11-08 17:55:21             NaN   \n",
      "99999  119349   14       1  15      401  2017-11-07 14:32:27             NaN   \n",
      "\n",
      "       is_attributed  \n",
      "0                  0  \n",
      "1                  0  \n",
      "2                  0  \n",
      "3                  0  \n",
      "4                  0  \n",
      "5                  0  \n",
      "6                  0  \n",
      "7                  0  \n",
      "8                  0  \n",
      "9                  0  \n",
      "10                 0  \n",
      "11                 0  \n",
      "12                 0  \n",
      "13                 0  \n",
      "14                 0  \n",
      "15                 0  \n",
      "16                 0  \n",
      "17                 0  \n",
      "18                 0  \n",
      "19                 0  \n",
      "20                 0  \n",
      "21                 0  \n",
      "22                 0  \n",
      "23                 0  \n",
      "24                 0  \n",
      "25                 0  \n",
      "26                 0  \n",
      "27                 0  \n",
      "28                 0  \n",
      "29                 0  \n",
      "...              ...  \n",
      "99970              0  \n",
      "99971              0  \n",
      "99972              0  \n",
      "99973              0  \n",
      "99974              0  \n",
      "99975              0  \n",
      "99976              0  \n",
      "99977              0  \n",
      "99978              0  \n",
      "99979              0  \n",
      "99980              0  \n",
      "99981              0  \n",
      "99982              0  \n",
      "99983              0  \n",
      "99984              0  \n",
      "99985              0  \n",
      "99986              0  \n",
      "99987              0  \n",
      "99988              0  \n",
      "99989              0  \n",
      "99990              0  \n",
      "99991              0  \n",
      "99992              0  \n",
      "99993              0  \n",
      "99994              0  \n",
      "99995              0  \n",
      "99996              0  \n",
      "99997              0  \n",
      "99998              0  \n",
      "99999              0  \n",
      "\n",
      "[100000 rows x 8 columns]\n"
     ]
    }
   ],
   "source": [
    "print (df)"
   ]
  },
  {
   "cell_type": "code",
   "execution_count": 4,
   "metadata": {},
   "outputs": [
    {
     "name": "stdout",
     "output_type": "stream",
     "text": [
      "100000\n"
     ]
    }
   ],
   "source": [
    "print (len(df))"
   ]
  },
  {
   "cell_type": "markdown",
   "metadata": {},
   "source": [
    "#Find the number of positive results (clicks)"
   ]
  },
  {
   "cell_type": "code",
   "execution_count": 5,
   "metadata": {},
   "outputs": [
    {
     "name": "stdout",
     "output_type": "stream",
     "text": [
      "227\n"
     ]
    }
   ],
   "source": [
    "df1=df[df['is_attributed']==1]\n",
    "print (len(df1))"
   ]
  },
  {
   "cell_type": "code",
   "execution_count": 6,
   "metadata": {},
   "outputs": [
    {
     "name": "stdout",
     "output_type": "stream",
     "text": [
      "50000\n"
     ]
    }
   ],
   "source": [
    "#split out some training data.\n",
    "train=df.head(50000)\n",
    "\n",
    "print (len(train))"
   ]
  },
  {
   "cell_type": "code",
   "execution_count": 7,
   "metadata": {
    "collapsed": true
   },
   "outputs": [],
   "source": [
    "train_features=train.iloc[:,:5]#leave click time out.  need to think about how to capture this.\n",
    "train_outcome=train.iloc[:,7:]\n",
    "\n",
    "X = train_features\n",
    "Y = train_outcome"
   ]
  },
  {
   "cell_type": "code",
   "execution_count": 8,
   "metadata": {},
   "outputs": [
    {
     "data": {
      "text/plain": [
       "BernoulliNB(alpha=1.0, binarize=0.0, class_prior=None, fit_prior=True)"
      ]
     },
     "execution_count": 8,
     "metadata": {},
     "output_type": "execute_result"
    }
   ],
   "source": [
    "clf = BernoulliNB()\n",
    "clf.fit(X, Y.values.ravel())\n"
   ]
  },
  {
   "cell_type": "code",
   "execution_count": 9,
   "metadata": {},
   "outputs": [
    {
     "data": {
      "text/plain": [
       "0.9967291666666667"
      ]
     },
     "execution_count": 9,
     "metadata": {},
     "output_type": "execute_result"
    }
   ],
   "source": [
    "test=df.tail(48000)\n",
    "test_input=test.iloc[:,:5]\n",
    "test_outcome=test.iloc[:,7:]\n",
    "\n",
    "clf.score(test_input, test_outcome.values.ravel())"
   ]
  },
  {
   "cell_type": "markdown",
   "metadata": {},
   "source": [
    "# accuracy is overstated due to imbalanced data\n"
   ]
  },
  {
   "cell_type": "code",
   "execution_count": 12,
   "metadata": {},
   "outputs": [
    {
     "name": "stderr",
     "output_type": "stream",
     "text": [
      "/home/appertjt/anaconda3/lib/python3.5/site-packages/sklearn/utils/deprecation.py:77: DeprecationWarning: Function _ratio_float is deprecated; Use a float for 'ratio' is deprecated from version 0.2. The support will be removed in 0.4. Use a dict, str, or a callable instead.\n",
      "  warnings.warn(msg, category=DeprecationWarning)\n"
     ]
    }
   ],
   "source": [
    "#rerun with upsampling on the training sample\n",
    "sm = SMOTE(random_state=12, ratio = 1.0)\n",
    "x_res, y_res = sm.fit_sample(X, Y.values.ravel())\n"
   ]
  },
  {
   "cell_type": "code",
   "execution_count": 13,
   "metadata": {},
   "outputs": [
    {
     "data": {
      "text/plain": [
       "BernoulliNB(alpha=1.0, binarize=0.0, class_prior=None, fit_prior=True)"
      ]
     },
     "execution_count": 13,
     "metadata": {},
     "output_type": "execute_result"
    }
   ],
   "source": [
    "clf2=BernoulliNB()\n",
    "clf2.fit(x_res, y_res)"
   ]
  },
  {
   "cell_type": "code",
   "execution_count": 14,
   "metadata": {},
   "outputs": [
    {
     "data": {
      "text/plain": [
       "0.9930833333333333"
      ]
     },
     "execution_count": 14,
     "metadata": {},
     "output_type": "execute_result"
    }
   ],
   "source": [
    "test=df.tail(48000)\n",
    "test_input=test.iloc[:,:5]\n",
    "test_outcome=test.iloc[:,7:]\n",
    "\n",
    "clf2.score(test_input, test_outcome.values.ravel())"
   ]
  },
  {
   "cell_type": "code",
   "execution_count": null,
   "metadata": {
    "collapsed": true
   },
   "outputs": [],
   "source": []
  }
 ],
 "metadata": {
  "kernelspec": {
   "display_name": "Python [conda root]",
   "language": "python",
   "name": "conda-root-py"
  },
  "language_info": {
   "codemirror_mode": {
    "name": "ipython",
    "version": 3
   },
   "file_extension": ".py",
   "mimetype": "text/x-python",
   "name": "python",
   "nbconvert_exporter": "python",
   "pygments_lexer": "ipython3",
   "version": "3.5.3"
  }
 },
 "nbformat": 4,
 "nbformat_minor": 2
}
